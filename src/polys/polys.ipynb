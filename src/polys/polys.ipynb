{
 "cells": [
  {
   "cell_type": "code",
   "execution_count": 30,
   "id": "5e4d1df3-f10b-468d-b5db-90a71e6084d7",
   "metadata": {},
   "outputs": [],
   "source": [
    "import code\n",
    "\n",
    "import numpy as np\n",
    "import gurobipy as gp\n",
    "\n",
    "model = gp.Model(\"polynomial_program\")\n",
    "\n",
    "# build the monomial vectors\n",
    "n = 1\n",
    "k = 6\n",
    "\n",
    "monomials = code.tensors.get_monomial_indices(n, k)\n",
    "\n",
    "# create the vars\n",
    "x = model.addVars(len(monomials), name='x')\n",
    "\n",
    "# get the constraints\n",
    "A = code.tensors.get_moment_operator(\n",
    "    n=n, \n",
    "    k_half=k // 2, \n",
    "    monomials=monomials,\n",
    "    localizer=None\n",
    ")\n",
    "\n",
    "z = model.addVars(*A.shape[1:3], name='z')\n",
    "Ax = gp.quicksum(A[i] * x[i] for i in range(A.shape[0]))\n",
    "\n",
    "# set equality of Ax with z, our semidefinite vector\n",
    "for i in range(A.shape[1]):\n",
    "    for j in range(A.shape[2]):\n",
    "        model.addConstr(Ax[i,j] == z[i,j], name=f'Ax_({i},{j})=z_({i},{j})')"
   ]
  }
 ],
 "metadata": {
  "kernelspec": {
   "display_name": "gurobi",
   "language": "python",
   "name": "gurobi"
  },
  "language_info": {
   "codemirror_mode": {
    "name": "ipython",
    "version": 3
   },
   "file_extension": ".py",
   "mimetype": "text/x-python",
   "name": "python",
   "nbconvert_exporter": "python",
   "pygments_lexer": "ipython3",
   "version": "3.10.11"
  }
 },
 "nbformat": 4,
 "nbformat_minor": 5
}
