{
 "cells": [
  {
   "cell_type": "code",
   "execution_count": 2,
   "id": "5e4d1df3-f10b-468d-b5db-90a71e6084d7",
   "metadata": {},
   "outputs": [
    {
     "name": "stdout",
     "output_type": "stream",
     "text": [
      "Gurobi Optimizer version 10.0.2 build v10.0.2rc0 (win64)\n",
      "\n",
      "CPU model: Intel(R) Core(TM) i7-6700HQ CPU @ 2.60GHz, instruction set [SSE2|AVX|AVX2]\n",
      "Thread count: 4 physical cores, 8 logical processors, using up to 8 threads\n",
      "\n"
     ]
    },
    {
     "ename": "GurobiError",
     "evalue": "Model too large for size-limited license; visit https://www.gurobi.com/free-trial for a full license",
     "output_type": "error",
     "traceback": [
      "\u001b[1;31m---------------------------------------------------------------------------\u001b[0m",
      "\u001b[1;31mGurobiError\u001b[0m                               Traceback (most recent call last)",
      "Cell \u001b[1;32mIn[2], line 24\u001b[0m\n\u001b[0;32m      8\u001b[0m model\u001b[38;5;241m.\u001b[39mset_objective([\n\u001b[0;32m      9\u001b[0m     (\u001b[38;5;241m1\u001b[39m, [\u001b[38;5;241m0\u001b[39m]),\n\u001b[0;32m     10\u001b[0m     (\u001b[38;5;241m1\u001b[39m, [\u001b[38;5;241m1\u001b[39m]),\n\u001b[0;32m     11\u001b[0m     (\u001b[38;5;241m-\u001b[39m\u001b[38;5;241m3\u001b[39m, [\u001b[38;5;241m3\u001b[39m]),\n\u001b[0;32m     12\u001b[0m     (\u001b[38;5;241m2\u001b[39m, [\u001b[38;5;241m4\u001b[39m]),\n\u001b[0;32m     13\u001b[0m ])\n\u001b[0;32m     15\u001b[0m model\u001b[38;5;241m.\u001b[39madd_cone(\n\u001b[0;32m     16\u001b[0m     \u001b[38;5;124m'\u001b[39m\u001b[38;5;124mboundA\u001b[39m\u001b[38;5;124m'\u001b[39m, \n\u001b[0;32m     17\u001b[0m     localizer \u001b[38;5;241m=\u001b[39m [\n\u001b[1;32m   (...)\u001b[0m\n\u001b[0;32m     21\u001b[0m     inequality \u001b[38;5;241m=\u001b[39m \u001b[38;5;28;01mTrue\u001b[39;00m,\n\u001b[0;32m     22\u001b[0m )\n\u001b[1;32m---> 24\u001b[0m \u001b[43mmodel\u001b[49m\u001b[38;5;241;43m.\u001b[39;49m\u001b[43moptimize\u001b[49m\u001b[43m(\u001b[49m\u001b[38;5;241;43m100\u001b[39;49m\u001b[43m)\u001b[49m\n\u001b[0;32m     26\u001b[0m model\u001b[38;5;241m.\u001b[39mvars_x\n",
      "File \u001b[1;32m~\\Documents\\GitHub\\sdp-tricks\\src\\polys\\code\\model.py:98\u001b[0m, in \u001b[0;36mModel.optimize\u001b[1;34m(self, max_steps)\u001b[0m\n\u001b[0;32m     95\u001b[0m clear_output(wait\u001b[38;5;241m=\u001b[39m\u001b[38;5;28;01mTrue\u001b[39;00m)\n\u001b[0;32m     97\u001b[0m \u001b[38;5;66;03m# reoptimize\u001b[39;00m\n\u001b[1;32m---> 98\u001b[0m \u001b[38;5;28;43mself\u001b[39;49m\u001b[38;5;241;43m.\u001b[39;49m\u001b[43m__optimize_and_feasible\u001b[49m\u001b[43m(\u001b[49m\u001b[43m)\u001b[49m\n",
      "File \u001b[1;32m~\\Documents\\GitHub\\sdp-tricks\\src\\polys\\code\\model.py:56\u001b[0m, in \u001b[0;36mModel.__optimize_and_feasible\u001b[1;34m(self)\u001b[0m\n\u001b[0;32m     53\u001b[0m \u001b[38;5;28;01mdef\u001b[39;00m \u001b[38;5;21m__optimize_and_feasible\u001b[39m(\u001b[38;5;28mself\u001b[39m):\n\u001b[0;32m     54\u001b[0m     \n\u001b[0;32m     55\u001b[0m     \u001b[38;5;66;03m# initial optimization\u001b[39;00m\n\u001b[1;32m---> 56\u001b[0m     \u001b[38;5;28;43mself\u001b[39;49m\u001b[38;5;241;43m.\u001b[39;49m\u001b[43mmodel\u001b[49m\u001b[38;5;241;43m.\u001b[39;49m\u001b[43moptimize\u001b[49m\u001b[43m(\u001b[49m\u001b[43m)\u001b[49m\n\u001b[0;32m     58\u001b[0m     \u001b[38;5;66;03m# if we have an infeasible start\u001b[39;00m\n\u001b[0;32m     59\u001b[0m     \u001b[38;5;28;01mif\u001b[39;00m \u001b[38;5;28mself\u001b[39m\u001b[38;5;241m.\u001b[39mmodel\u001b[38;5;241m.\u001b[39mstatus \u001b[38;5;241m!=\u001b[39m gp\u001b[38;5;241m.\u001b[39mGRB\u001b[38;5;241m.\u001b[39mStatus\u001b[38;5;241m.\u001b[39mINF_OR_UNBD:\n",
      "File \u001b[1;32msrc\\gurobipy\\model.pxi:878\u001b[0m, in \u001b[0;36mgurobipy.Model.optimize\u001b[1;34m()\u001b[0m\n",
      "\u001b[1;31mGurobiError\u001b[0m: Model too large for size-limited license; visit https://www.gurobi.com/free-trial for a full license"
     ]
    }
   ],
   "source": [
    "import code\n",
    "\n",
    "import numpy as np\n",
    "import gurobipy as gp\n",
    "\n",
    "model = code.model.Model(n = 1, k_half = 3, k_upper = 9)\n",
    "\n",
    "model.set_objective([\n",
    "    (1, [0]),\n",
    "    (1, [1]),\n",
    "    (-3, [3]),\n",
    "    (2, [4]),\n",
    "])\n",
    "\n",
    "model.add_cone(\n",
    "    'boundA', \n",
    "    localizer = [\n",
    "        (1, [0]),\n",
    "        (-1, [2])\n",
    "    ],\n",
    "    inequality = True,\n",
    ")\n",
    "\n",
    "model.optimize(100)\n",
    "\n",
    "model.vars_x"
   ]
  }
 ],
 "metadata": {
  "kernelspec": {
   "display_name": "gurobi",
   "language": "python",
   "name": "gurobi"
  },
  "language_info": {
   "codemirror_mode": {
    "name": "ipython",
    "version": 3
   },
   "file_extension": ".py",
   "mimetype": "text/x-python",
   "name": "python",
   "nbconvert_exporter": "python",
   "pygments_lexer": "ipython3",
   "version": "3.10.11"
  }
 },
 "nbformat": 4,
 "nbformat_minor": 5
}
