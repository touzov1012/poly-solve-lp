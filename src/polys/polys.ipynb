{
 "cells": [
  {
   "cell_type": "code",
   "execution_count": 6,
   "id": "5e4d1df3-f10b-468d-b5db-90a71e6084d7",
   "metadata": {},
   "outputs": [
    {
     "name": "stdout",
     "output_type": "stream",
     "text": [
      "Gurobi Optimizer version 10.0.2 build v10.0.2rc0 (win64)\n",
      "\n",
      "CPU model: Intel(R) Core(TM) i7-6700HQ CPU @ 2.60GHz, instruction set [SSE2|AVX|AVX2]\n",
      "Thread count: 4 physical cores, 8 logical processors, using up to 8 threads\n",
      "\n",
      "Optimize a model with 33 rows, 160 columns and 2041 nonzeros\n",
      "Model fingerprint: 0x1e2b1677\n",
      "Coefficient statistics:\n",
      "  Matrix range     [3e-07, 1e+00]\n",
      "  Objective range  [1e+00, 3e+00]\n",
      "  Bounds range     [0e+00, 0e+00]\n",
      "  RHS range        [1e+00, 1e+00]\n",
      "Presolve removed 14 rows and 12 columns\n",
      "Presolve time: 0.01s\n",
      "Presolved: 19 rows, 148 columns, 1214 nonzeros\n",
      "\n",
      "Iteration    Objective       Primal Inf.    Dual Inf.      Time\n",
      "       0      handle free variables                          0s\n",
      "      91    9.0326885e-01   0.000000e+00   0.000000e+00      0s\n",
      "\n",
      "Solved in 91 iterations and 0.01 seconds (0.00 work units)\n",
      "Optimal objective  9.032688479e-01\n"
     ]
    },
    {
     "data": {
      "text/plain": [
       "{0: <gurobi.Var x[0] (value 1.0)>,\n",
       " 1: <gurobi.Var x[1] (value -0.09960092292665351)>,\n",
       " 2: <gurobi.Var x[2] (value 0.010361269827099104)>,\n",
       " 3: <gurobi.Var x[3] (value -0.0006227306555921172)>,\n",
       " 4: <gurobi.Var x[4] (value 0.0005007894370221393)>,\n",
       " 5: <gurobi.Var x[5] (value 0.0005056935259183911)>,\n",
       " 6: <gurobi.Var x[6] (value 0.0019335898480355702)>,\n",
       " 7: <gurobi.Var x[7] (value 0.02415782947765833)>,\n",
       " 8: <gurobi.Var x[8] (value 0.0)>,\n",
       " 9: <gurobi.Var x[9] (value 0.0)>}"
      ]
     },
     "execution_count": 6,
     "metadata": {},
     "output_type": "execute_result"
    }
   ],
   "source": [
    "import code\n",
    "\n",
    "import numpy as np\n",
    "import gurobipy as gp\n",
    "\n",
    "model = code.model.Model(n = 1, k_half = 3, k_upper = 9)\n",
    "\n",
    "model.set_objective([\n",
    "    (1, [0]),\n",
    "    (1, [1]),\n",
    "    (-3, [3]),\n",
    "    (2, [4]),\n",
    "])\n",
    "\n",
    "model.add_cone(\n",
    "    'bound', \n",
    "    localizer = [\n",
    "        (0.1, [0]),\n",
    "        (1, [1])\n",
    "    ],\n",
    "    inequality = True,\n",
    ")\n",
    "\n",
    "model.optimize(60)\n",
    "\n",
    "model.vars_x"
   ]
  },
  {
   "cell_type": "code",
   "execution_count": null,
   "id": "9ef2c68a-e984-4c9c-b6d0-5786000d471f",
   "metadata": {},
   "outputs": [
    {
     "name": "stdout",
     "output_type": "stream",
     "text": [
      "The model has a feasible solution\n"
     ]
    }
   ],
   "source": [
    "# Check the status of the solution\n",
    "if model.status == gp.GRB.Status.INFEASIBLE:\n",
    "    print('The model is infeasible')\n",
    "\n",
    "    # Compute the IIS\n",
    "    model.computeIIS()\n",
    "\n",
    "    # Print the IIS\n",
    "    for c in model.getConstrs():\n",
    "        if c.IISConstr:\n",
    "            print(f'Constraint {c.ConstrName} is part of the IIS')\n",
    "\n",
    "    # Retrieve and print the dual extreme ray (Farkas dual)\n",
    "    for c in model.getConstrs():\n",
    "        print(f'Dual Farkas value for constraint {c.ConstrName}: {c.dualFarkas}')\n",
    "else:\n",
    "    print('The model has a feasible solution')"
   ]
  }
 ],
 "metadata": {
  "kernelspec": {
   "display_name": "gurobi",
   "language": "python",
   "name": "gurobi"
  },
  "language_info": {
   "codemirror_mode": {
    "name": "ipython",
    "version": 3
   },
   "file_extension": ".py",
   "mimetype": "text/x-python",
   "name": "python",
   "nbconvert_exporter": "python",
   "pygments_lexer": "ipython3",
   "version": "3.10.11"
  }
 },
 "nbformat": 4,
 "nbformat_minor": 5
}
