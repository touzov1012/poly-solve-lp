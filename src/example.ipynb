{
 "cells": [
  {
   "cell_type": "code",
   "execution_count": 13,
   "id": "5e4d1df3-f10b-468d-b5db-90a71e6084d7",
   "metadata": {},
   "outputs": [
    {
     "name": "stdout",
     "output_type": "stream",
     "text": [
      "Gurobi Optimizer version 10.0.3 build v10.0.3rc0 (win64)\n",
      "\n",
      "CPU model: Intel(R) Core(TM) i7-6700HQ CPU @ 2.60GHz, instruction set [SSE2|AVX|AVX2]\n",
      "Thread count: 4 physical cores, 8 logical processors, using up to 8 threads\n",
      "\n",
      "Optimize a model with 51 rows, 995 columns and 23596 nonzeros\n",
      "Model fingerprint: 0x6c6b4581\n",
      "Coefficient statistics:\n",
      "  Matrix range     [2e-09, 1e+00]\n",
      "  Objective range  [1e+00, 3e+00]\n",
      "  Bounds range     [0e+00, 0e+00]\n",
      "  RHS range        [1e+00, 1e+00]\n",
      "Presolve removed 22 rows and 13 columns\n",
      "Presolve time: 0.01s\n",
      "Presolved: 29 rows, 982 columns, 13709 nonzeros\n",
      "\n",
      "Iteration    Objective       Primal Inf.    Dual Inf.      Time\n",
      "       0      handle free variables                          0s\n",
      "Extra simplex iterations after uncrush: 97\n",
      "     514    1.0000066e+00   0.000000e+00   0.000000e+00      0s\n",
      "\n",
      "Solved in 514 iterations and 0.04 seconds (0.04 work units)\n",
      "Optimal objective  1.000006559e+00\n"
     ]
    },
    {
     "data": {
      "text/plain": [
       "<MVar (11,)>\n",
       "array([<gurobi.Var x[0] (value 1.0)>,\n",
       "       <gurobi.Var x[1] (value 1.0002517429713838)>,\n",
       "       <gurobi.Var x[2] (value 1.0005130666281525)>,\n",
       "       <gurobi.Var x[3] (value 1.000776607295063)>,\n",
       "       <gurobi.Var x[4] (value 1.0010423191737088)>,\n",
       "       <gurobi.Var x[5] (value 1.0013289419573417)>,\n",
       "       <gurobi.Var x[6] (value 1.0019297240933676)>,\n",
       "       <gurobi.Var x[7] (value 1.0080695700746394)>,\n",
       "       <gurobi.Var x[8] (value 1.1242077502985819)>,\n",
       "       <gurobi.Var x[9] (value 4.826007029452914)>,\n",
       "       <gurobi.Var x[10] (value 0.0)>])"
      ]
     },
     "execution_count": 13,
     "metadata": {},
     "output_type": "execute_result"
    }
   ],
   "source": [
    "import code\n",
    "\n",
    "import numpy as np\n",
    "import gurobipy as gp\n",
    "\n",
    "model = code.model.Model(\n",
    "    n = 1, \n",
    "    k_half = 4, \n",
    "    k_upper = 10,\n",
    "    socp = False,\n",
    ")\n",
    "\n",
    "model.set_objective([\n",
    "    (1, [0]),\n",
    "    (1, [1]),\n",
    "    (-3, [3]),\n",
    "    (2, [4]),\n",
    "])\n",
    "\n",
    "model.add_cone(\n",
    "    'x - 0.1 >= 0', \n",
    "    localizer = [\n",
    "        (-0.1, [0]),\n",
    "        (1, [1])\n",
    "    ],\n",
    "    inequality = True,\n",
    "    socp = False,\n",
    ")\n",
    "\n",
    "model.optimize(500)\n",
    "\n",
    "model.vars_x"
   ]
  }
 ],
 "metadata": {
  "kernelspec": {
   "display_name": "gurobi",
   "language": "python",
   "name": "gurobi"
  },
  "language_info": {
   "codemirror_mode": {
    "name": "ipython",
    "version": 3
   },
   "file_extension": ".py",
   "mimetype": "text/x-python",
   "name": "python",
   "nbconvert_exporter": "python",
   "pygments_lexer": "ipython3",
   "version": "3.10.11"
  }
 },
 "nbformat": 4,
 "nbformat_minor": 5
}
