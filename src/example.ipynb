{
 "cells": [
  {
   "cell_type": "code",
   "execution_count": 15,
   "id": "5e4d1df3-f10b-468d-b5db-90a71e6084d7",
   "metadata": {},
   "outputs": [
    {
     "name": "stdout",
     "output_type": "stream",
     "text": [
      "Gurobi Optimizer version 10.0.3 build v10.0.3rc0 (win64)\n",
      "\n",
      "CPU model: Intel(R) Core(TM) i7-6700HQ CPU @ 2.60GHz, instruction set [SSE2|AVX|AVX2]\n",
      "Thread count: 4 physical cores, 8 logical processors, using up to 8 threads\n",
      "\n",
      "Optimize a model with 33 rows, 272 columns and 3858 nonzeros\n",
      "Model fingerprint: 0xbbb93ff7\n",
      "Coefficient statistics:\n",
      "  Matrix range     [1e-05, 1e+00]\n",
      "  Objective range  [1e+00, 3e+00]\n",
      "  Bounds range     [0e+00, 0e+00]\n",
      "  RHS range        [1e+00, 1e+00]\n",
      "Presolve removed 14 rows and 10 columns\n",
      "Presolve time: 0.01s\n",
      "Presolved: 19 rows, 262 columns, 2310 nonzeros\n",
      "\n",
      "Iteration    Objective       Primal Inf.    Dual Inf.      Time\n",
      "       0      handle free variables                          0s\n",
      "     206    1.0000014e+00   0.000000e+00   0.000000e+00      0s\n",
      "\n",
      "Solved in 206 iterations and 0.02 seconds (0.00 work units)\n",
      "Optimal objective  1.000001426e+00\n"
     ]
    },
    {
     "data": {
      "text/plain": [
       "<MVar (8,)>\n",
       "array([<gurobi.Var x[0] (value 1.0)>,\n",
       "       <gurobi.Var x[1] (value 0.9996247181378533)>,\n",
       "       <gurobi.Var x[2] (value 0.9992505738461954)>,\n",
       "       <gurobi.Var x[3] (value 0.998876800886039)>,\n",
       "       <gurobi.Var x[4] (value 0.9985035552589269)>,\n",
       "       <gurobi.Var x[5] (value 0.9981496576131145)>,\n",
       "       <gurobi.Var x[6] (value 1.0016712983698999)>,\n",
       "       <gurobi.Var x[7] (value 2.0901875102875547)>])"
      ]
     },
     "execution_count": 15,
     "metadata": {},
     "output_type": "execute_result"
    }
   ],
   "source": [
    "import code\n",
    "\n",
    "import numpy as np\n",
    "import gurobipy as gp\n",
    "\n",
    "model = code.model.Model(\n",
    "    n = 1, \n",
    "    k_half = 3, \n",
    "    k_upper = 7,\n",
    "    socp = False,\n",
    ")\n",
    "\n",
    "model.set_objective([\n",
    "    (1, [0]),\n",
    "    (1, [1]),\n",
    "    (-3, [3]),\n",
    "    (2, [4]),\n",
    "])\n",
    "\n",
    "model.add_cone(\n",
    "    'x - 0.1 >= 0', \n",
    "    localizer = [\n",
    "        (-0.1, [0]),\n",
    "        (1, [1])\n",
    "    ],\n",
    "    inequality = True,\n",
    "    socp = False,\n",
    ")\n",
    "\n",
    "model.optimize(200)\n",
    "\n",
    "model.vars_x"
   ]
  }
 ],
 "metadata": {
  "kernelspec": {
   "display_name": "gurobi",
   "language": "python",
   "name": "gurobi"
  },
  "language_info": {
   "codemirror_mode": {
    "name": "ipython",
    "version": 3
   },
   "file_extension": ".py",
   "mimetype": "text/x-python",
   "name": "python",
   "nbconvert_exporter": "python",
   "pygments_lexer": "ipython3",
   "version": "3.10.11"
  }
 },
 "nbformat": 4,
 "nbformat_minor": 5
}
