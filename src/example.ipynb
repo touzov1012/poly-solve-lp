{
 "cells": [
  {
   "cell_type": "code",
   "execution_count": 1,
   "id": "5e4d1df3-f10b-468d-b5db-90a71e6084d7",
   "metadata": {},
   "outputs": [
    {
     "name": "stdout",
     "output_type": "stream",
     "text": [
      "Gurobi Optimizer version 10.0.3 build v10.0.3rc0 (win64)\n",
      "\n",
      "CPU model: Intel(R) Core(TM) i7-6700HQ CPU @ 2.60GHz, instruction set [SSE2|AVX|AVX2]\n",
      "Thread count: 4 physical cores, 8 logical processors, using up to 8 threads\n",
      "\n",
      "Optimize a model with 129 rows, 138 columns and 1505 nonzeros\n",
      "Model fingerprint: 0x2648c36f\n",
      "Model has 32 quadratic constraints\n",
      "Coefficient statistics:\n",
      "  Matrix range     [1e-09, 1e+00]\n",
      "  QMatrix range    [1e+00, 1e+00]\n",
      "  Objective range  [1e+00, 3e+00]\n",
      "  Bounds range     [0e+00, 0e+00]\n",
      "  RHS range        [1e+00, 1e+00]\n",
      "Presolve removed 80 rows and 8 columns\n",
      "Presolve time: 0.01s\n",
      "Presolved: 111 rows, 192 columns, 1023 nonzeros\n",
      "Presolved model has 31 second-order cone constraints\n",
      "Ordering time: 0.00s\n",
      "\n",
      "Barrier statistics:\n",
      " Free vars  : 37\n",
      " AA' NZ     : 7.820e+02\n",
      " Factor NZ  : 1.327e+03\n",
      " Factor Ops : 1.970e+04 (less than 1 second per iteration)\n",
      " Threads    : 1\n",
      "\n",
      "                  Objective                Residual\n",
      "Iter       Primal          Dual         Primal    Dual     Compl     Time\n",
      "   0   9.99972996e-01  1.00000000e+00  2.90e+00 3.00e+00  1.54e-02     0s\n",
      "   1   7.70476842e-01  9.25252614e-01  2.48e+00 2.59e+00  1.51e-02     0s\n",
      "   2   5.09514000e-02  6.40249812e-01  1.87e+00 7.25e-01  1.23e-02     0s\n",
      "   3   7.81137110e-01  6.73578353e-01  1.88e-01 4.99e-02  2.16e-03     0s\n",
      "   4   7.98580643e-01  7.41006819e-01  7.20e-02 2.26e-02  9.39e-04     0s\n",
      "   5   8.03895466e-01  7.90271024e-01  1.56e-02 4.58e-03  2.15e-04     0s\n",
      "   6   8.00834815e-01  7.96251327e-01  4.01e-03 1.02e-03  6.49e-05     0s\n",
      "   7   7.98191617e-01  7.96755857e-01  3.82e-04 2.17e-04  1.33e-05     0s\n",
      "   8   7.97641011e-01  7.97161832e-01  1.12e-04 8.01e-05  4.50e-06     0s\n",
      "   9   7.97557773e-01  7.97370577e-01  4.94e-05 2.74e-05  1.86e-06     0s\n",
      "  10   7.97505583e-01  7.97445580e-01  1.69e-05 7.72e-06  6.25e-07     0s\n",
      "  11   7.97497597e-01  7.97467924e-01  1.01e-05 3.68e-06  3.33e-07     0s\n",
      "  12   7.97491782e-01  7.97475530e-01  2.41e-06 2.37e-06  1.45e-07     0s\n",
      "  13   7.97489663e-01  7.97484007e-01  6.87e-07 8.18e-07  4.85e-08     0s\n",
      "  14   7.97488520e-01  7.97486632e-01  1.81e-07 2.90e-07  1.59e-08     0s\n",
      "  15   7.97487982e-01  7.97487713e-01  6.75e-09 4.20e-08  1.86e-09     0s\n",
      "\n",
      "Barrier solved model in 15 iterations and 0.05 seconds (0.00 work units)\n",
      "Optimal objective 7.97487982e-01\n",
      "\n",
      "Solving KKT system to obtain QCP duals...\n",
      "\n"
     ]
    },
    {
     "data": {
      "text/plain": [
       "<MVar (10,)>\n",
       "array([<gurobi.Var x[0] (value 1.0)>,\n",
       "       <gurobi.Var x[1] (value -0.29402454488458685)>,\n",
       "       <gurobi.Var x[2] (value 0.08695378401303394)>,\n",
       "       <gurobi.Var x[3] (value -0.025339904941211966)>,\n",
       "       <gurobi.Var x[4] (value 0.00774640594957894)>,\n",
       "       <gurobi.Var x[5] (value -0.0020652838023913728)>,\n",
       "       <gurobi.Var x[6] (value 0.0008668926252484488)>,\n",
       "       <gurobi.Var x[7] (value -0.00011142731066660837)>,\n",
       "       <gurobi.Var x[8] (value -13.839018167410071)>,\n",
       "       <gurobi.Var x[9] (value 0.0)>])"
      ]
     },
     "execution_count": 1,
     "metadata": {},
     "output_type": "execute_result"
    }
   ],
   "source": [
    "import code\n",
    "\n",
    "import numpy as np\n",
    "import gurobipy as gp\n",
    "\n",
    "model = code.model.Model(n = 1, k_half = 3, k_upper = 9)\n",
    "\n",
    "model.set_objective([\n",
    "    (1, [0]),\n",
    "    (1, [1]),\n",
    "    (-3, [3]),\n",
    "    (2, [4]),\n",
    "])\n",
    "\n",
    "model.add_cone(\n",
    "    'boundA', \n",
    "    localizer = [\n",
    "        (1, [0]),\n",
    "        (-1, [2])\n",
    "    ],\n",
    "    inequality = True,\n",
    ")\n",
    "\n",
    "model.optimize(10)\n",
    "\n",
    "model.vars_x"
   ]
  }
 ],
 "metadata": {
  "kernelspec": {
   "display_name": "gurobi",
   "language": "python",
   "name": "gurobi"
  },
  "language_info": {
   "codemirror_mode": {
    "name": "ipython",
    "version": 3
   },
   "file_extension": ".py",
   "mimetype": "text/x-python",
   "name": "python",
   "nbconvert_exporter": "python",
   "pygments_lexer": "ipython3",
   "version": "3.10.11"
  }
 },
 "nbformat": 4,
 "nbformat_minor": 5
}
