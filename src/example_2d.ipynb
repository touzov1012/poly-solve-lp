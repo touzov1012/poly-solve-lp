{
 "cells": [
  {
   "cell_type": "code",
   "execution_count": 1,
   "id": "5e4d1df3-f10b-468d-b5db-90a71e6084d7",
   "metadata": {},
   "outputs": [
    {
     "name": "stdout",
     "output_type": "stream",
     "text": [
      "Gurobi Optimizer version 10.0.3 build v10.0.3rc0 (win64)\n",
      "\n",
      "CPU model: Intel(R) Core(TM) i7-6700HQ CPU @ 2.60GHz, instruction set [SSE2|AVX|AVX2]\n",
      "Thread count: 4 physical cores, 8 logical processors, using up to 8 threads\n",
      "\n",
      "Optimize a model with 101 rows, 928 columns and 80471 nonzeros\n",
      "Model fingerprint: 0x8796f0fc\n",
      "Coefficient statistics:\n",
      "  Matrix range     [7e-11, 1e+00]\n",
      "  Objective range  [3e-01, 4e+00]\n",
      "  Bounds range     [0e+00, 0e+00]\n",
      "  RHS range        [1e+00, 1e+00]\n",
      "Presolve removed 54 rows and 34 columns\n",
      "Presolve time: 0.03s\n",
      "Presolved: 47 rows, 894 columns, 37845 nonzeros\n",
      "\n",
      "Concurrent LP optimizer: dual simplex and barrier\n",
      "Showing barrier log only...\n",
      "\n",
      "Ordering time: 0.00s\n",
      "\n",
      "Barrier statistics:\n",
      " Free vars  : 4\n",
      " AA' NZ     : 1.081e+03\n",
      " Factor NZ  : 1.128e+03\n",
      " Factor Ops : 3.572e+04 (less than 1 second per iteration)\n",
      " Threads    : 3\n",
      "\n",
      "                  Objective                Residual\n",
      "Iter       Primal          Dual         Primal    Dual     Compl     Time\n",
      "   0   1.30197841e+06 -8.61733656e+05  6.06e+06 6.01e+01  6.05e+05     0s\n",
      "   1   1.42523508e+05 -3.92436414e+05  1.79e+06 3.05e+01  1.91e+05     0s\n",
      "   2   9.77383420e+04 -7.23037992e+04  2.02e+05 4.26e+00  2.36e+04     0s\n",
      "   3   5.65527760e+03 -5.59508123e+03  6.38e+03 4.41e-07  7.96e+02     0s\n",
      "\n",
      "Barrier performed 3 iterations in 0.06 seconds (0.04 work units)\n",
      "Barrier solve interrupted - model solved by another algorithm\n",
      "\n",
      "\n",
      "Solved with dual simplex\n",
      "     264   -1.0315629e+00   0.000000e+00   0.000000e+00      0s\n",
      "\n",
      "Solved in 264 iterations and 0.07 seconds (0.07 work units)\n",
      "Optimal objective -1.031562903e+00\n"
     ]
    }
   ],
   "source": [
    "%matplotlib inline\n",
    "\n",
    "import code\n",
    "\n",
    "import numpy as np\n",
    "import gurobipy as gp\n",
    "\n",
    "# create the model\n",
    "model = code.model.Model(\n",
    "    n = 2, \n",
    "    k_half = 3, \n",
    "    k_upper = 6,\n",
    "    socp = False,\n",
    ")\n",
    "\n",
    "# set the objective: 6 hump camel\n",
    "model.set_objective([\n",
    "    (1, [1,1]),\n",
    "    (-4, [0,2]),\n",
    "    (4, [0,4]),\n",
    "    (4, [2,0]),\n",
    "    (-2.1, [4,0]),\n",
    "    (1/3, [6,0]),\n",
    "])\n",
    "\n",
    "# optimal value should be -1.0316\n",
    "model.optimize(800)"
   ]
  }
 ],
 "metadata": {
  "kernelspec": {
   "display_name": "gurobi",
   "language": "python",
   "name": "gurobi"
  },
  "language_info": {
   "codemirror_mode": {
    "name": "ipython",
    "version": 3
   },
   "file_extension": ".py",
   "mimetype": "text/x-python",
   "name": "python",
   "nbconvert_exporter": "python",
   "pygments_lexer": "ipython3",
   "version": "3.10.11"
  }
 },
 "nbformat": 4,
 "nbformat_minor": 5
}
